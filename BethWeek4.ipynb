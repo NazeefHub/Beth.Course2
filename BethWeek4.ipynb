{
 "cells": [
  {
   "cell_type": "code",
   "execution_count": 1,
   "id": "4e6d5e7b-d7c4-4c39-806b-f61117ec3dba",
   "metadata": {},
   "outputs": [
    {
     "name": "stdout",
     "output_type": "stream",
     "text": [
      "11\n"
     ]
    }
   ],
   "source": [
    "#length function\n",
    "x = len(\"hello world!\")\n",
    "print(x)"
   ]
  },
  {
   "cell_type": "code",
   "execution_count": 3,
   "id": "41426297-ab14-4bfb-99a5-0445f8369eda",
   "metadata": {},
   "outputs": [
    {
     "name": "stdout",
     "output_type": "stream",
     "text": [
      "<class 'float'>\n"
     ]
    }
   ],
   "source": [
    "#type function\n",
    "my_var = 3.14\n",
    "print(type(my_var))"
   ]
  },
  {
   "cell_type": "code",
   "execution_count": 5,
   "id": "de23922e-f14d-4208-8d3d-3809434eb25c",
   "metadata": {},
   "outputs": [
    {
     "name": "stdout",
     "output_type": "stream",
     "text": [
      "30\n"
     ]
    }
   ],
   "source": [
    "#sum fuction\n",
    "x = [5,10,15]\n",
    "print(sum(x))"
   ]
  },
  {
   "cell_type": "code",
   "execution_count": 7,
   "id": "7b8ed35e-8794-43d1-b873-08bf37d49e9c",
   "metadata": {},
   "outputs": [
    {
     "name": "stdout",
     "output_type": "stream",
     "text": [
      "3\n"
     ]
    }
   ],
   "source": [
    "#min function\n",
    "x = [8,3,127]\n",
    "print(min(x))"
   ]
  },
  {
   "cell_type": "code",
   "execution_count": 15,
   "id": "271d7bf9-3266-4f90-91a9-fea42b808d2a",
   "metadata": {},
   "outputs": [
    {
     "name": "stdin",
     "output_type": "stream",
     "text": [
      "whats is your name nazeef\n"
     ]
    },
    {
     "name": "stdout",
     "output_type": "stream",
     "text": [
      "NAZEEF\n"
     ]
    }
   ],
   "source": [
    "#uppercasre function\n",
    "name = input(\"whats is your name\")\n",
    "_up = name.upper()\n",
    "print(_up)"
   ]
  },
  {
   "cell_type": "code",
   "execution_count": 17,
   "id": "b92c4c6f-24e3-4378-b259-353fa35eed7e",
   "metadata": {},
   "outputs": [
    {
     "name": "stdout",
     "output_type": "stream",
     "text": [
      "[3, 5, 8, 10]\n"
     ]
    }
   ],
   "source": [
    "#intermediate level\n",
    "#sort method ascend\n",
    "x = [10,5,8,3]\n",
    "x.sort()\n",
    "print(x)"
   ]
  },
  {
   "cell_type": "code",
   "execution_count": 19,
   "id": "6a080ad4-dba2-488d-b2d2-e5204b56ffaf",
   "metadata": {},
   "outputs": [
    {
     "name": "stdout",
     "output_type": "stream",
     "text": [
      "[3, 5, 8, 10]\n"
     ]
    }
   ],
   "source": [
    "#sorted function ascend\n",
    "x = [10,5,8,3]\n",
    "_sort = sorted(x)\n",
    "print(_sort)"
   ]
  },
  {
   "cell_type": "code",
   "execution_count": 23,
   "id": "6f7a6bc2-faf8-4499-8225-68684788f5d4",
   "metadata": {},
   "outputs": [
    {
     "name": "stdout",
     "output_type": "stream",
     "text": [
      "[10, 8, 5, 3]\n"
     ]
    }
   ],
   "source": [
    "#sorted method descend\n",
    "y = [10,5,8,3]\n",
    "y.sort(reverse=True)\n",
    "print(y)"
   ]
  },
  {
   "cell_type": "code",
   "execution_count": 25,
   "id": "d86caa19-63c8-4cdd-a983-528f39948e0f",
   "metadata": {},
   "outputs": [
    {
     "name": "stdout",
     "output_type": "stream",
     "text": [
      "[10, 8, 5, 3]\n"
     ]
    }
   ],
   "source": [
    "#sorted function\n",
    "y = [10,5,8,3]\n",
    "_sort = sorted(y, reverse=True)\n",
    "print(_sort)"
   ]
  },
  {
   "cell_type": "code",
   "execution_count": 49,
   "id": "69cccacd-0584-4e41-9b89-8b4c9b72864a",
   "metadata": {},
   "outputs": [
    {
     "name": "stdin",
     "output_type": "stream",
     "text": [
      "add a random number 7\n",
      "add a random number 3\n",
      "add a random number 7\n",
      "add a random number 2\n",
      "add a random number 8\n"
     ]
    },
    {
     "name": "stdout",
     "output_type": "stream",
     "text": [
      "[2, 8]\n"
     ]
    }
   ],
   "source": [
    "#filter funtion\n",
    "numbers = []\n",
    "\n",
    "y = 5\n",
    "while y > 0:\n",
    "    add_a_number = int(input(\"add a random number\"))\n",
    "    numbers.append(add_a_number)\n",
    "    y -= 1\n",
    "\n",
    "\n",
    "def IsEven(num):\n",
    "    return num % 2 == 0\n",
    "\n",
    "filtered = filter(IsEven, numbers)\n",
    "print(list(filtered))"
   ]
  },
  {
   "cell_type": "code",
   "execution_count": 51,
   "id": "98c9f6db-b26c-4fa6-a175-1e23c4f67b37",
   "metadata": {},
   "outputs": [
    {
     "name": "stdin",
     "output_type": "stream",
     "text": [
      "add a random number 8\n",
      "add a random number 0\n",
      "add a random number 3\n",
      "add a random number 5\n",
      "add a random number 4\n"
     ]
    },
    {
     "name": "stdout",
     "output_type": "stream",
     "text": [
      "[8, 0, 4]\n"
     ]
    }
   ],
   "source": [
    "#filter again\n",
    "numbers = []\n",
    "\n",
    "y = 5\n",
    "while y > 0:\n",
    "    add_a_number = int(input(\"add a random number\"))\n",
    "    numbers.append(add_a_number)\n",
    "    y -= 1\n",
    "\n",
    "_filter = filter(lambda num:num % 2 == 0, numbers)\n",
    "print(list(_filter))"
   ]
  },
  {
   "cell_type": "code",
   "execution_count": 59,
   "id": "98e45065-9732-4413-a6df-c0232975c97d",
   "metadata": {},
   "outputs": [
    {
     "name": "stdout",
     "output_type": "stream",
     "text": [
      "[(4, 'john'), (6, 'Doe'), (2, 'fish')]\n"
     ]
    }
   ],
   "source": [
    "#zip function\n",
    "x = [\"john\",\"Doe\",\"fish\"]\n",
    "y = [4,6,2]\n",
    "\n",
    "comb = zip(y,x)\n",
    "print(list(comb))"
   ]
  },
  {
   "cell_type": "code",
   "execution_count": 3,
   "id": "6831fb6d-5f68-44fa-9160-66e542a5bb6d",
   "metadata": {},
   "outputs": [
    {
     "name": "stdout",
     "output_type": "stream",
     "text": [
      "3.77\n"
     ]
    }
   ],
   "source": [
    "#round function\n",
    "x = 3.7654\n",
    "print(round(x,2))"
   ]
  },
  {
   "cell_type": "code",
   "execution_count": 25,
   "id": "2ea21fca-8dc9-4a8a-88e8-4c4536d167f4",
   "metadata": {},
   "outputs": [
    {
     "name": "stdout",
     "output_type": "stream",
     "text": [
      "[4, 16, 36, 64]\n"
     ]
    }
   ],
   "source": [
    "#map function\n",
    "_list = [2, 4, 6, 8]\n",
    "\n",
    "def _isEven(num):\n",
    "    return num ** 2\n",
    "\n",
    "squared = map(isEven,_list)\n",
    "print(list(squared))"
   ]
  },
  {
   "cell_type": "code",
   "execution_count": 29,
   "id": "ba29ac6d-0967-4390-81fb-4d93ed1dad8a",
   "metadata": {},
   "outputs": [
    {
     "name": "stdout",
     "output_type": "stream",
     "text": [
      "[4, 16, 36, 64]\n"
     ]
    }
   ],
   "source": [
    "#map function\n",
    "_list = [2, 4, 6, 8]\n",
    "\n",
    "squared = map(lambda num:num **2,_list)\n",
    "print(list(squared))"
   ]
  },
  {
   "cell_type": "code",
   "execution_count": 37,
   "id": "e1da78f9-2783-479c-be2a-9df93713f4dc",
   "metadata": {},
   "outputs": [
    {
     "name": "stdin",
     "output_type": "stream",
     "text": [
      "enter any numbers 5 * 7\n"
     ]
    },
    {
     "name": "stdout",
     "output_type": "stream",
     "text": [
      "35\n"
     ]
    }
   ],
   "source": [
    "#sportybet make i try advanced level\n",
    "_user = input(\"enter any numbers\")\n",
    "print(eval(_user))"
   ]
  },
  {
   "cell_type": "code",
   "execution_count": 49,
   "id": "4d2d9d91-43bc-4b72-8dda-18b53199b8cb",
   "metadata": {},
   "outputs": [
    {
     "name": "stdout",
     "output_type": "stream",
     "text": [
      "['PYTHON', 'JAVA', 'C++']\n"
     ]
    }
   ],
   "source": [
    "#map again\n",
    "_lst = ['python', 'java','c++']\n",
    "\n",
    "_cap = map(lambda x:x.upper(),_lst)\n",
    "print(list(_cap))"
   ]
  },
  {
   "cell_type": "code",
   "execution_count": 75,
   "id": "578cdb97-a4dd-4d77-8797-38c6bac3007f",
   "metadata": {},
   "outputs": [
    {
     "name": "stdout",
     "output_type": "stream",
     "text": [
      "['cat', 'dog', 'elephant', 'tiger']\n"
     ]
    }
   ],
   "source": [
    "#filter again\n",
    "_lst = ['cat', 'dog','elephant','tiger']\n",
    "_filt = filter(lambda x:x,_lst)\n",
    "print(list(_filt))"
   ]
  },
  {
   "cell_type": "code",
   "execution_count": 83,
   "id": "b5a75b03-57b8-4625-be77-24939ff38f2f",
   "metadata": {},
   "outputs": [
    {
     "ename": "ValueError",
     "evalue": "invalid literal for int() with base 10: 'cat'",
     "output_type": "error",
     "traceback": [
      "\u001b[1;31m---------------------------------------------------------------------------\u001b[0m",
      "\u001b[1;31mValueError\u001b[0m                                Traceback (most recent call last)",
      "Cell \u001b[1;32mIn[83], line 8\u001b[0m\n\u001b[0;32m      5\u001b[0m     \u001b[38;5;28;01mreturn\u001b[39;00m y \u001b[38;5;241m<\u001b[39m \u001b[38;5;241m4\u001b[39m\n\u001b[0;32m      7\u001b[0m check \u001b[38;5;241m=\u001b[39m \u001b[38;5;28mfilter\u001b[39m(Int_lst,_lst)\n\u001b[1;32m----> 8\u001b[0m \u001b[38;5;28mprint\u001b[39m(\u001b[38;5;28mlist\u001b[39m(check))\n",
      "Cell \u001b[1;32mIn[83], line 4\u001b[0m, in \u001b[0;36mInt_lst\u001b[1;34m(x)\u001b[0m\n\u001b[0;32m      3\u001b[0m \u001b[38;5;28;01mdef\u001b[39;00m \u001b[38;5;21mInt_lst\u001b[39m(x):\n\u001b[1;32m----> 4\u001b[0m     y \u001b[38;5;241m=\u001b[39m \u001b[38;5;28mint\u001b[39m(x)\n\u001b[0;32m      5\u001b[0m     \u001b[38;5;28;01mreturn\u001b[39;00m y \u001b[38;5;241m<\u001b[39m \u001b[38;5;241m4\u001b[39m\n",
      "\u001b[1;31mValueError\u001b[0m: invalid literal for int() with base 10: 'cat'"
     ]
    }
   ],
   "source": [
    "#i sha tried my best\n",
    "#filter other way\n",
    "_lst = ['cat', 'dog','elephant','tiger']\n",
    "def Int_lst(x):\n",
    "    y = int(x)\n",
    "    return y < 4\n",
    "\n",
    "check = filter(Int_lst,_lst)\n",
    "print(list(check))"
   ]
  },
  {
   "cell_type": "code",
   "execution_count": null,
   "id": "632ee7fe-366e-488e-803a-98eeadc639ac",
   "metadata": {},
   "outputs": [],
   "source": []
  }
 ],
 "metadata": {
  "kernelspec": {
   "display_name": "Python [conda env:base] *",
   "language": "python",
   "name": "conda-base-py"
  },
  "language_info": {
   "codemirror_mode": {
    "name": "ipython",
    "version": 3
   },
   "file_extension": ".py",
   "mimetype": "text/x-python",
   "name": "python",
   "nbconvert_exporter": "python",
   "pygments_lexer": "ipython3",
   "version": "3.12.7"
  }
 },
 "nbformat": 4,
 "nbformat_minor": 5
}
