{
 "cells": [
  {
   "cell_type": "code",
   "execution_count": 110,
   "id": "b74e4331-4c07-47cc-91f7-265e55b0bc6d",
   "metadata": {},
   "outputs": [
    {
     "name": "stdin",
     "output_type": "stream",
     "text": [
      "whats your numerator 7\n",
      "whats your denomenator 4\n"
     ]
    },
    {
     "data": {
      "text/plain": [
       "1.75"
      ]
     },
     "execution_count": 110,
     "metadata": {},
     "output_type": "execute_result"
    }
   ],
   "source": [
    "#error handling\n",
    "#cannot divide by zero\n",
    "\n",
    "def divide(a,b):\n",
    "    try:\n",
    "        return a/b\n",
    "    except ZeroDivisionError:\n",
    "      print(\"cannot divide by zero\")    \n",
    "       \n",
    "_firstNumber = int(input(\"whats your numerator\"))\n",
    "_secondNumber = int(input(\"whats your denomenator\"))\n",
    "\n",
    "divide(_firstNumber,_secondNumber)"
   ]
  },
  {
   "cell_type": "code",
   "execution_count": 114,
   "id": "85ce8edc-a4ad-4fba-8fc0-9a50bb3e699f",
   "metadata": {},
   "outputs": [
    {
     "name": "stdin",
     "output_type": "stream",
     "text": [
      "please enter a number k\n"
     ]
    },
    {
     "name": "stdout",
     "output_type": "stream",
     "text": [
      "You can only input a number\n"
     ]
    }
   ],
   "source": [
    "#Value error\n",
    "try:\n",
    "    _enter = int(input(\"please enter a number\"))\n",
    "except ValueError:\n",
    "    print(\"You can only input a number\")\n",
    "else:\n",
    "    print(_enter)"
   ]
  },
  {
   "cell_type": "code",
   "execution_count": 116,
   "id": "71b3602b-14cb-46c8-bc01-100a5a35a728",
   "metadata": {},
   "outputs": [
    {
     "name": "stdout",
     "output_type": "stream",
     "text": [
      "t cannot be converted to a string\n",
      "d cannot be converted to a string\n",
      "[7, 4]\n"
     ]
    }
   ],
   "source": [
    "#convert_list_str\n",
    "#dont fully understand this path but thanks to GPT\n",
    "def convert_list_str(str_list):\n",
    "       new_list = []\n",
    "       for item in str_list:\n",
    "          try:\n",
    "             new_list.append(int(item))\n",
    "          except ValueError:\n",
    "             print(f\"{item} cannot be converted to a string\")\n",
    "       return new_list \n",
    "strings = [\"t\",\"d\",\"7\",\"4\"]\n",
    "result = convert_list_str(strings)\n",
    "print(result)"
   ]
  },
  {
   "cell_type": "code",
   "execution_count": 120,
   "id": "a5e99697-d145-4015-b788-747d68c3844a",
   "metadata": {},
   "outputs": [
    {
     "name": "stdin",
     "output_type": "stream",
     "text": [
      "whats your index? 4\n"
     ]
    },
    {
     "name": "stdout",
     "output_type": "stream",
     "text": [
      "mat\n"
     ]
    }
   ],
   "source": [
    "#Access a list\n",
    "def access_list_item(_myList,_item):\n",
    "    try:\n",
    "      return _myList[_item]\n",
    "    except IndexError:\n",
    "        print(\"Index not in range of list\")\n",
    "\n",
    "_listOfItems = [\"goat\",\"house\",\"king\",\"fish\",\"mat\"]\n",
    "_index = int(input(\"whats your index?\"))\n",
    "result = access_list_item(_listOfItems,_index)\n",
    "print(result)"
   ]
  },
  {
   "cell_type": "code",
   "execution_count": 11,
   "id": "48772765-623f-42a6-ad90-5d00b0427cb3",
   "metadata": {},
   "outputs": [],
   "source": [
    "#Intermediate level wont kill intermediate\n"
   ]
  },
  {
   "cell_type": "code",
   "execution_count": 122,
   "id": "0f24998d-e204-4ef4-b90a-e4c7bb975030",
   "metadata": {},
   "outputs": [
    {
     "name": "stdin",
     "output_type": "stream",
     "text": [
      "whats your dictionary word? House\n"
     ]
    },
    {
     "name": "stdout",
     "output_type": "stream",
     "text": [
      "this key does not exist\n",
      "None\n"
     ]
    }
   ],
   "source": [
    "def get_key_value(dic,key):\n",
    "    try:\n",
    "        return dic[key]\n",
    "    except KeyError:\n",
    "        print(\"this key does not exist\")\n",
    "\n",
    "_dictionary = {\n",
    "    'Man':'Provides',\n",
    "    'Woman':'Protects',\n",
    "    'Child':'Promises',\n",
    "    'Grannys':'Prevent'\n",
    "} \n",
    "_dictionaryValue = input(\"whats your dictionary word?\")\n",
    "result = get_key_value(_dictionary,_dictionaryValue)\n",
    "print(result)"
   ]
  },
  {
   "cell_type": "code",
   "execution_count": 47,
   "id": "4846916b-4ed7-4a77-9915-cdcb9604bd23",
   "metadata": {},
   "outputs": [
    {
     "name": "stdin",
     "output_type": "stream",
     "text": [
      "whats your height? 0\n",
      "whats your weight? 6\n"
     ]
    },
    {
     "name": "stdout",
     "output_type": "stream",
     "text": [
      "height cant be zero\n",
      "None\n"
     ]
    }
   ],
   "source": [
    "# bm  calculator\n",
    "def _bm_(height,weight):\n",
    "    try:\n",
    "       bmi = weight / height **2\n",
    "    except ZeroDivisionError:\n",
    "        print(\"height cant be zero\")\n",
    "    else:\n",
    "        return bmi\n",
    "\n",
    "H = int(input(\"whats your height?\"))\n",
    "W = int(input(\"whats your weight?\"))\n",
    "\n",
    "result = _bm_(H,W)\n",
    "print(result)"
   ]
  },
  {
   "cell_type": "code",
   "execution_count": 124,
   "id": "4fe2fade-f3a1-4cf6-86b4-99f0fe56e04b",
   "metadata": {},
   "outputs": [
    {
     "name": "stdin",
     "output_type": "stream",
     "text": [
      "whats your a? 8\n",
      "whats your b? 4\n"
     ]
    },
    {
     "name": "stdout",
     "output_type": "stream",
     "text": [
      "12\n"
     ]
    }
   ],
   "source": [
    "#TypeError \n",
    "def _addNumbers(a,b):\n",
    "     try:\n",
    "        if isinstance (a,str) or isinstance(b,str):\n",
    "            raise TypeError(\"Must be an integer\")\n",
    "        return a + b\n",
    "     except TypeError as e:\n",
    "        return(e)\n",
    "try:\n",
    "   aa = int(input(\"whats your a?\"))\n",
    "   bb = int(input(\"whats your b?\"))\n",
    "\n",
    "   x = _addNumbers(aa,bb)\n",
    "\n",
    "   print(x)\n",
    "except ValueError:\n",
    "   print(\"please insert only numbers\")\n",
    "    "
   ]
  },
  {
   "cell_type": "code",
   "execution_count": 126,
   "id": "3a9f127f-80ef-4bf5-8f6b-f19783e2d144",
   "metadata": {},
   "outputs": [
    {
     "name": "stdin",
     "output_type": "stream",
     "text": [
      "please the biig number 8\n",
      "please the small number 4\n"
     ]
    },
    {
     "name": "stdout",
     "output_type": "stream",
     "text": [
      "2.0\n"
     ]
    }
   ],
   "source": [
    "#Last Zero Division\n",
    "\n",
    "def divide(a,b):\n",
    "    try:\n",
    "       result = a/b\n",
    "    except ZeroDivisionError:\n",
    "        print(\"number can not be zero\")\n",
    "    else:\n",
    "        return result\n",
    "\n",
    "mr_a = int(input(\"please the biig number\"))\n",
    "mr_b = int(input(\"please the small number\"))\n",
    "\n",
    "_div = divide(mr_a,mr_b)\n",
    "print(_div)"
   ]
  },
  {
   "cell_type": "code",
   "execution_count": null,
   "id": "60a67d94-b974-4c46-91f9-e0d79c6a62e2",
   "metadata": {},
   "outputs": [],
   "source": []
  }
 ],
 "metadata": {
  "kernelspec": {
   "display_name": "Python [conda env:base] *",
   "language": "python",
   "name": "conda-base-py"
  },
  "language_info": {
   "codemirror_mode": {
    "name": "ipython",
    "version": 3
   },
   "file_extension": ".py",
   "mimetype": "text/x-python",
   "name": "python",
   "nbconvert_exporter": "python",
   "pygments_lexer": "ipython3",
   "version": "3.12.7"
  }
 },
 "nbformat": 4,
 "nbformat_minor": 5
}
