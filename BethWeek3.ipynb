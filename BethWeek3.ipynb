{
 "cells": [
  {
   "cell_type": "code",
   "execution_count": 3,
   "id": "98292546-b45b-4229-9752-346348a18694",
   "metadata": {},
   "outputs": [
    {
     "name": "stdin",
     "output_type": "stream",
     "text": [
      "What is your name Nazeef\n"
     ]
    },
    {
     "data": {
      "text/plain": [
       "'Hello Nazeef!, You are welcome to the world of Pytho'"
      ]
     },
     "execution_count": 3,
     "metadata": {},
     "output_type": "execute_result"
    }
   ],
   "source": [
    "#The Greeting Machine\n",
    "def greet(name):\n",
    "    name = input(\"What is your name\")\n",
    "    return f\"Hello {name}!, You are welcome to the world of Pytho\"\n",
    "\n",
    "greet(1)"
   ]
  },
  {
   "cell_type": "code",
   "execution_count": 17,
   "id": "7e010713-e285-468b-834b-bb5546587777",
   "metadata": {},
   "outputs": [
    {
     "name": "stdin",
     "output_type": "stream",
     "text": [
      "How many packs of flour do you wish to put in 5\n",
      "How many packs of eggs do you wish to put in 5\n",
      "How many packs of milk do you wish to put in 4\n"
     ]
    },
    {
     "name": "stdout",
     "output_type": "stream",
     "text": [
      "15 pancakes can be made for now!\n"
     ]
    }
   ],
   "source": [
    "#The Recipe Helper\n",
    "def pancake_maker(x,y,z):\n",
    "    return x + y + z + 1\n",
    "\n",
    "F = int(input(\"How many packs of flour do you wish to put in\"))\n",
    "E = int(input(\"How many packs of eggs do you wish to put in\"))\n",
    "M = int(input(\"How many packs of milk do you wish to put in\"))\n",
    "\n",
    "bake = pancake_maker(F,E,M)\n",
    "\n",
    "print(f\"{bake} pancakes can be made for now!\")"
   ]
  },
  {
   "cell_type": "code",
   "execution_count": 9,
   "id": "2a462179-1882-42b9-9ce9-effa10e453ef",
   "metadata": {},
   "outputs": [
    {
     "name": "stdin",
     "output_type": "stream",
     "text": [
      "what is the body temperature 20\n"
     ]
    },
    {
     "data": {
      "text/plain": [
       "'68.0 is the accurate temperature in Fareinheit'"
      ]
     },
     "execution_count": 9,
     "metadata": {},
     "output_type": "execute_result"
    }
   ],
   "source": [
    "#Temperature Converter\n",
    "\n",
    "def temp_converter(temp):\n",
    "    return f\"{(temp * 9/5) + 32} is the accurate temperature in Fareinheit\"\n",
    "\n",
    "temp = int(input(\"what is the body temperature\"))\n",
    "\n",
    "temp_converter(temp)\n"
   ]
  },
  {
   "cell_type": "code",
   "execution_count": 41,
   "id": "3001b230-7d61-4d9c-af5d-f14e1baae0b5",
   "metadata": {},
   "outputs": [
    {
     "name": "stdout",
     "output_type": "stream",
     "text": [
      "10\n"
     ]
    }
   ],
   "source": [
    "#Number Cruncher\n",
    "def add_numbers(n1,n2):\n",
    "    return n1 + n2\n",
    "\n",
    "sum_up = add_numbers(3,7)\n",
    "print(sum_up)"
   ]
  },
  {
   "cell_type": "code",
   "execution_count": 47,
   "id": "9d9aa2fb-74ea-4926-a5c6-5403ab3aa386",
   "metadata": {},
   "outputs": [
    {
     "name": "stdin",
     "output_type": "stream",
     "text": [
      "what is your name Nazeeef\n"
     ]
    },
    {
     "name": "stdout",
     "output_type": "stream",
     "text": [
      " welcome Nazeeef!, You are doing Amazing\n"
     ]
    }
   ],
   "source": [
    "def _welcome(name):\n",
    "    print(f\" welcome {name}!, You are doing Amazing\")\n",
    "\n",
    "initials = input(\"what is your name\")\n",
    "\n",
    "_welcome(initials)"
   ]
  },
  {
   "cell_type": "code",
   "execution_count": 3,
   "id": "49ac0802-5444-4e39-b0b6-b8ee03ba3da6",
   "metadata": {},
   "outputs": [
    {
     "name": "stdout",
     "output_type": "stream",
     "text": [
      "(8, 2, 15, 1.6666666666666667)\n"
     ]
    }
   ],
   "source": [
    "#Intermdeiate level\n",
    "\n",
    "#Math Quiz\n",
    "\n",
    "def _math(num1,num2):\n",
    "    add = num1 + num2\n",
    "    diff = num1 - num2\n",
    "    prod = num1 * num2\n",
    "    quo =  num1 / num2\n",
    "    return add, diff, prod, quo\n",
    "\n",
    "math = _math(5,3)\n",
    "print(math)\n",
    "    "
   ]
  },
  {
   "cell_type": "code",
   "execution_count": 11,
   "id": "9a808919-dbcb-4cde-ba9a-9ca0af7a7a92",
   "metadata": {},
   "outputs": [
    {
     "name": "stdin",
     "output_type": "stream",
     "text": [
      "enter your first item naze\n",
      "enter your second item nnaazz\n"
     ]
    },
    {
     "name": "stdout",
     "output_type": "stream",
     "text": [
      "You have placed naze and nnaazz in the magic box!\n"
     ]
    }
   ],
   "source": [
    "#Magic Box\n",
    "\n",
    "def _magic(item1,item2):\n",
    "    print(f\"You have placed {item1} and {item2} in the magic box!\")\n",
    "\n",
    "box1 = input(\"enter your first item\")\n",
    "box2 = input(\"enter your second item\")\n",
    "\n",
    "_magic(box1,box2)\n",
    "    "
   ]
  },
  {
   "cell_type": "code",
   "execution_count": 15,
   "id": "42c022e7-4f90-46fb-b8b6-b7c02d92e95f",
   "metadata": {},
   "outputs": [
    {
     "name": "stdin",
     "output_type": "stream",
     "text": [
      "How many years have you been training now? 5\n"
     ]
    },
    {
     "name": "stdout",
     "output_type": "stream",
     "text": [
      "You still need more training\n"
     ]
    }
   ],
   "source": [
    "#Super-Hero Power Checker\n",
    "\n",
    "def _superhero(yrs):\n",
    "    power_up = yrs * 2\n",
    "    if power_up > 100:\n",
    "        print(\"You can fly now\")\n",
    "    elif power_up <= 100:\n",
    "        print(\"You still need more training\")\n",
    "\n",
    "exp = int(input(\"How many years have you been training now?\"))\n",
    "_superhero(exp)\n",
    "\n"
   ]
  },
  {
   "cell_type": "code",
   "execution_count": null,
   "id": "629bebff-7770-4c5f-be2f-81e4c61c10e0",
   "metadata": {},
   "outputs": [],
   "source": [
    "#Shape Area Calculator\n",
    "\n"
   ]
  },
  {
   "cell_type": "code",
   "execution_count": null,
   "id": "e9caf9be-5ece-488a-96ec-e2a900bf56e1",
   "metadata": {},
   "outputs": [],
   "source": []
  }
 ],
 "metadata": {
  "kernelspec": {
   "display_name": "Python [conda env:base] *",
   "language": "python",
   "name": "conda-base-py"
  },
  "language_info": {
   "codemirror_mode": {
    "name": "ipython",
    "version": 3
   },
   "file_extension": ".py",
   "mimetype": "text/x-python",
   "name": "python",
   "nbconvert_exporter": "python",
   "pygments_lexer": "ipython3",
   "version": "3.12.7"
  }
 },
 "nbformat": 4,
 "nbformat_minor": 5
}
