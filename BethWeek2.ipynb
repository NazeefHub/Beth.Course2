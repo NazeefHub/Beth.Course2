{
 "cells": [
  {
   "cell_type": "code",
   "execution_count": 3,
   "id": "d63c3dbe-f04e-4fc1-9697-b608321cb4a9",
   "metadata": {},
   "outputs": [
    {
     "name": "stdin",
     "output_type": "stream",
     "text": [
      "whats your number  7\n"
     ]
    },
    {
     "name": "stdout",
     "output_type": "stream",
     "text": [
      "This is a positve number\n"
     ]
    }
   ],
   "source": [
    "#number checker\n",
    "n = int(input(\"whats your number \"))\n",
    "\n",
    "if n < 0:\n",
    "    print(\"this is a negative number\")\n",
    "elif n == 0:\n",
    "    print(\"this is just zero\")    \n",
    "else:\n",
    "    print(\"This is a positve number\")"
   ]
  },
  {
   "cell_type": "code",
   "execution_count": 19,
   "id": "bb05245c-72ab-4b2f-8ae9-7f65647aadf9",
   "metadata": {},
   "outputs": [
    {
     "name": "stdin",
     "output_type": "stream",
     "text": [
      "How old are you?  100\n"
     ]
    },
    {
     "name": "stdout",
     "output_type": "stream",
     "text": [
      "Senior Citizen, Old soldier never die \n"
     ]
    }
   ],
   "source": [
    " #Age checker\n",
    "\n",
    "Age = int(input(\"How old are you? \") \n",
    ")\n",
    "if Age <= 12:\n",
    "    print(\"you child, you are just a kid\")\n",
    "elif Age <= 19:\n",
    "    print(\"you are a teenager, agbaya\")\n",
    "elif Age <= 59:\n",
    "    print(\"you are an adult, you should have grandkids\")\n",
    "else:\n",
    "    print(\"Senior Citizen, Old soldier never die \") \n"
   ]
  },
  {
   "cell_type": "code",
   "execution_count": 35,
   "id": "03eac6b9-0a62-4544-9962-472db84afb43",
   "metadata": {},
   "outputs": [
    {
     "name": "stdin",
     "output_type": "stream",
     "text": [
      "Whats your score?  56\n"
     ]
    },
    {
     "name": "stdout",
     "output_type": "stream",
     "text": [
      "Carry Over Student\n"
     ]
    }
   ],
   "source": [
    "#Grade Checker\n",
    "\n",
    "_score = int(input(\"Whats your score? \"))  \n",
    "\n",
    "if 90 <= _score >= 100:\n",
    "    print(\"Grade A Student\")\n",
    "elif  80 <= _score <= 89:\n",
    "    print(\"Grade B Student\")\n",
    "elif  70 <= _score <= 79:\n",
    "    print(\"Grade c Student\")\n",
    "elif  60 <= _score <= 69:\n",
    "    print(\"Grade D Student\")\n",
    "else:\n",
    "    print(\"rGrade F,Carry Over Student\")  "
   ]
  },
  {
   "cell_type": "code",
   "execution_count": 37,
   "id": "b2189f09-777e-4a6c-b909-e321dbd351b7",
   "metadata": {},
   "outputs": [
    {
     "name": "stdout",
     "output_type": "stream",
     "text": [
      "1\n",
      "2\n",
      "3\n",
      "4\n",
      "5\n",
      "6\n",
      "7\n",
      "8\n",
      "9\n",
      "10\n"
     ]
    }
   ],
   "source": [
    "# for loop\n",
    "\n",
    "for i in range(1,11):\n",
    "    print(i)\n"
   ]
  },
  {
   "cell_type": "code",
   "execution_count": 41,
   "id": "e286bf43-3e02-490f-9c28-241973fe3de1",
   "metadata": {},
   "outputs": [
    {
     "name": "stdin",
     "output_type": "stream",
     "text": [
      "insert your number  8\n"
     ]
    },
    {
     "name": "stdout",
     "output_type": "stream",
     "text": [
      "8\n",
      "7\n",
      "6\n",
      "5\n",
      "4\n",
      "3\n",
      "2\n",
      "1\n",
      "0\n"
     ]
    }
   ],
   "source": [
    "#Countdown Timer\n",
    "\n",
    "Insert = int(input(\"insert your number \"))\n",
    "\n",
    "while Insert >= 0:\n",
    "    print(Insert)\n",
    "    Insert -= 1"
   ]
  },
  {
   "cell_type": "code",
   "execution_count": 47,
   "id": "4a4a306b-c9cd-4ef2-8f53-27efae6f6b48",
   "metadata": {},
   "outputs": [
    {
     "name": "stdout",
     "output_type": "stream",
     "text": [
      "0\n",
      "2\n",
      "4\n",
      "6\n",
      "8\n",
      "10\n",
      "12\n",
      "14\n",
      "16\n",
      "18\n",
      "20\n",
      "22\n",
      "24\n",
      "26\n",
      "28\n",
      "30\n",
      "32\n",
      "34\n",
      "36\n",
      "38\n",
      "40\n",
      "42\n",
      "44\n",
      "46\n",
      "48\n",
      "50\n",
      "sum of evn numbers is:650\n"
     ]
    }
   ],
   "source": [
    "#Intermediate section\n",
    "\n",
    "#Sum Of Even\n",
    "\n",
    "even = 0\n",
    "\n",
    "for i in range (0,51):\n",
    "    if i % 2 == 1:\n",
    "        continue\n",
    "    even += i\n",
    "    print(i)\n",
    "\n",
    "print(f\"sum of evn numbers is:{even}\")"
   ]
  },
  {
   "cell_type": "code",
   "execution_count": 1,
   "id": "9dce1793-5a8e-4f4e-9776-31d87138e367",
   "metadata": {},
   "outputs": [
    {
     "name": "stdin",
     "output_type": "stream",
     "text": [
      "Whats the pword?  hh\n"
     ]
    },
    {
     "name": "stdout",
     "output_type": "stream",
     "text": [
      "Try agai\n"
     ]
    },
    {
     "name": "stdin",
     "output_type": "stream",
     "text": [
      "Whats the pword?  fight club\n"
     ]
    },
    {
     "name": "stdout",
     "output_type": "stream",
     "text": [
      "Access Granted\n"
     ]
    }
   ],
   "source": [
    "# password check\n",
    "\n",
    "pword = \"fight club\"\n",
    "\n",
    "while True:\n",
    "    \n",
    "    login = input(\"Whats the pword? \")\n",
    "    \n",
    "    if pword == login:\n",
    "        print(\"Access Granted\")\n",
    "        break \n",
    "        \n",
    "    else:\n",
    "        print(\"Try agai\")   "
   ]
  },
  {
   "cell_type": "code",
   "execution_count": 70,
   "id": "1ea119ca-9f70-47c1-9d72-0dc98272cbac",
   "metadata": {},
   "outputs": [
    {
     "name": "stdout",
     "output_type": "stream",
     "text": [
      "* \n",
      "* * \n",
      "* * * \n",
      "* * * * \n",
      "* * * * * \n"
     ]
    }
   ],
   "source": [
    "#Nestedloops to form diagram\n",
    "\n",
    "n = 6\n",
    "\n",
    "for i in range(1,n): \n",
    "    for j in range(i):\n",
    "        print(\"*\", end = \" \")       \n",
    "    print()        "
   ]
  },
  {
   "cell_type": "code",
   "execution_count": 72,
   "id": "a15cece0-3760-492c-9de7-91f868889072",
   "metadata": {},
   "outputs": [
    {
     "name": "stdin",
     "output_type": "stream",
     "text": [
      "Guess a number between 1 and 20:  6\n"
     ]
    },
    {
     "name": "stdout",
     "output_type": "stream",
     "text": [
      "Sorry! The number is too low, Try Again.\n"
     ]
    },
    {
     "name": "stdin",
     "output_type": "stream",
     "text": [
      "Guess a number between 1 and 20:  8\n"
     ]
    },
    {
     "name": "stdout",
     "output_type": "stream",
     "text": [
      "Sorry! The number is too low, Try Again.\n"
     ]
    },
    {
     "name": "stdin",
     "output_type": "stream",
     "text": [
      "Guess a number between 1 and 20:  13\n"
     ]
    },
    {
     "name": "stdout",
     "output_type": "stream",
     "text": [
      "Congratulations! You guessed it!\n"
     ]
    }
   ],
   "source": [
    "# Guessing game\n",
    "import random\n",
    "\n",
    "count = 5\n",
    "correct_number = random.randint(1, 20) \n",
    "\n",
    "while count > 0: \n",
    "    your_guess = int(input(\"Guess a number between 1 and 20: \"))\n",
    "\n",
    "    if correct_number == your_guess:\n",
    "        print(\"Congratulations! You guessed it!\")\n",
    "        break  \n",
    "\n",
    "    elif correct_number > your_guess:\n",
    "        print(\"Sorry! The number is too low, Try Again.\")\n",
    "\n",
    "    elif correct_number < your_guess:\n",
    "        print(\"Sorry! The number is too high, Try Again.\")\n",
    "\n",
    "    count -= 1  \n",
    "\n",
    "    if count == 0:  \n",
    "        print(\"Game Over! You've run out of guesses.\")\n",
    "              "
   ]
  },
  {
   "cell_type": "code",
   "execution_count": null,
   "id": "fa52f43c-dd3c-44ba-9388-89e39edb3ad7",
   "metadata": {},
   "outputs": [],
   "source": []
  }
 ],
 "metadata": {
  "kernelspec": {
   "display_name": "Python [conda env:base] *",
   "language": "python",
   "name": "conda-base-py"
  },
  "language_info": {
   "codemirror_mode": {
    "name": "ipython",
    "version": 3
   },
   "file_extension": ".py",
   "mimetype": "text/x-python",
   "name": "python",
   "nbconvert_exporter": "python",
   "pygments_lexer": "ipython3",
   "version": "3.12.7"
  }
 },
 "nbformat": 4,
 "nbformat_minor": 5
}
